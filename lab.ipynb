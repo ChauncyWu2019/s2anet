{
 "cells": [
  {
   "cell_type": "code",
   "execution_count": 7,
   "source": [
    "from mmdet.core.bbox.iou_calculators.iou2d_calculator_rotated import BboxOverlaps2D_rotated\n",
    "import torch"
   ],
   "outputs": [],
   "metadata": {}
  },
  {
   "cell_type": "code",
   "execution_count": 38,
   "source": [
    "from mmdet.core.bbox.iou_calculators.iou2d_calculator_rotated import BboxOverlaps2D_rotated\n",
    "import torch\n",
    "iou_rotate = BboxOverlaps2D_rotated()\n",
    "a = torch.Tensor([[1,2,4,4, 0]]).cuda()\n",
    "b = torch.Tensor([[1,2,4,4, 3.14]]).cuda()\n",
    "iou = iou_rotate(a,b)\n",
    "print(iou)"
   ],
   "outputs": [],
   "metadata": {}
  }
 ],
 "metadata": {
  "orig_nbformat": 4,
  "language_info": {
   "name": "python",
   "version": "3.8.11",
   "mimetype": "text/x-python",
   "codemirror_mode": {
    "name": "ipython",
    "version": 3
   },
   "pygments_lexer": "ipython3",
   "nbconvert_exporter": "python",
   "file_extension": ".py"
  },
  "kernelspec": {
   "name": "python3",
   "display_name": "Python 3.8.11 64-bit ('s2anet': conda)"
  },
  "interpreter": {
   "hash": "96b79116310ac0e6e96be5f992643fe221655693931188a6df4ac8cf8dbe0179"
  }
 },
 "nbformat": 4,
 "nbformat_minor": 2
}